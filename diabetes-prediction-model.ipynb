{
 "cells": [
  {
   "cell_type": "markdown",
   "metadata": {},
   "source": [
    "### Project Report: Diabetes Prediction with SVM"
   ]
  },
  {
   "cell_type": "code",
   "execution_count": 285,
   "metadata": {
    "execution": {
     "iopub.execute_input": "2025-08-20T19:37:46.450263Z",
     "iopub.status.busy": "2025-08-20T19:37:46.449692Z",
     "iopub.status.idle": "2025-08-20T19:37:46.454614Z",
     "shell.execute_reply": "2025-08-20T19:37:46.453641Z",
     "shell.execute_reply.started": "2025-08-20T19:37:46.450236Z"
    }
   },
   "outputs": [],
   "source": [
    "#Importing Libraries\n",
    "import pandas as pd\n",
    "import numpy as np\n",
    "from sklearn.preprocessing import StandardScaler\n",
    "from sklearn.model_selection import train_test_split\n",
    "from sklearn import svm\n",
    "from sklearn.metrics import accuracy_score\n"
   ]
  },
  {
   "cell_type": "code",
   "execution_count": 286,
   "metadata": {
    "execution": {
     "iopub.execute_input": "2025-08-20T19:37:46.456944Z",
     "iopub.status.busy": "2025-08-20T19:37:46.456601Z",
     "iopub.status.idle": "2025-08-20T19:37:46.480728Z",
     "shell.execute_reply": "2025-08-20T19:37:46.479800Z",
     "shell.execute_reply.started": "2025-08-20T19:37:46.456916Z"
    }
   },
   "outputs": [],
   "source": [
    "#Loading the dataset into pandas data frame\n",
    "diabetes_dataset=pd.read_csv('/kaggle/input/diabetes-prediction/Diabetes_prediction.csv')"
   ]
  },
  {
   "cell_type": "code",
   "execution_count": 287,
   "metadata": {
    "execution": {
     "iopub.execute_input": "2025-08-20T19:37:46.481897Z",
     "iopub.status.busy": "2025-08-20T19:37:46.481598Z",
     "iopub.status.idle": "2025-08-20T19:37:46.497631Z",
     "shell.execute_reply": "2025-08-20T19:37:46.496658Z",
     "shell.execute_reply.started": "2025-08-20T19:37:46.481871Z"
    }
   },
   "outputs": [
    {
     "data": {
      "text/html": [
       "<div>\n",
       "<style scoped>\n",
       "    .dataframe tbody tr th:only-of-type {\n",
       "        vertical-align: middle;\n",
       "    }\n",
       "\n",
       "    .dataframe tbody tr th {\n",
       "        vertical-align: top;\n",
       "    }\n",
       "\n",
       "    .dataframe thead th {\n",
       "        text-align: right;\n",
       "    }\n",
       "</style>\n",
       "<table border=\"1\" class=\"dataframe\">\n",
       "  <thead>\n",
       "    <tr style=\"text-align: right;\">\n",
       "      <th></th>\n",
       "      <th>Pregnancies</th>\n",
       "      <th>Glucose</th>\n",
       "      <th>BloodPressure</th>\n",
       "      <th>SkinThickness</th>\n",
       "      <th>Insulin</th>\n",
       "      <th>BMI</th>\n",
       "      <th>DiabetesPedigreeFunction</th>\n",
       "      <th>Age</th>\n",
       "      <th>Diagnosis</th>\n",
       "    </tr>\n",
       "  </thead>\n",
       "  <tbody>\n",
       "    <tr>\n",
       "      <th>0</th>\n",
       "      <td>2</td>\n",
       "      <td>115.863387</td>\n",
       "      <td>56.410731</td>\n",
       "      <td>24.336736</td>\n",
       "      <td>94.385783</td>\n",
       "      <td>26.455940</td>\n",
       "      <td>0.272682</td>\n",
       "      <td>20.100494</td>\n",
       "      <td>0</td>\n",
       "    </tr>\n",
       "    <tr>\n",
       "      <th>1</th>\n",
       "      <td>2</td>\n",
       "      <td>92.490122</td>\n",
       "      <td>70.615520</td>\n",
       "      <td>23.443591</td>\n",
       "      <td>138.652426</td>\n",
       "      <td>23.910167</td>\n",
       "      <td>0.665160</td>\n",
       "      <td>44.912281</td>\n",
       "      <td>0</td>\n",
       "    </tr>\n",
       "    <tr>\n",
       "      <th>2</th>\n",
       "      <td>1</td>\n",
       "      <td>88.141469</td>\n",
       "      <td>63.262618</td>\n",
       "      <td>23.404364</td>\n",
       "      <td>149.358082</td>\n",
       "      <td>21.948250</td>\n",
       "      <td>0.676022</td>\n",
       "      <td>48.247873</td>\n",
       "      <td>1</td>\n",
       "    </tr>\n",
       "    <tr>\n",
       "      <th>3</th>\n",
       "      <td>2</td>\n",
       "      <td>108.453101</td>\n",
       "      <td>67.793632</td>\n",
       "      <td>20.751580</td>\n",
       "      <td>108.751638</td>\n",
       "      <td>24.209304</td>\n",
       "      <td>0.289636</td>\n",
       "      <td>42.749868</td>\n",
       "      <td>0</td>\n",
       "    </tr>\n",
       "    <tr>\n",
       "      <th>4</th>\n",
       "      <td>1</td>\n",
       "      <td>127.849443</td>\n",
       "      <td>94.725685</td>\n",
       "      <td>22.603078</td>\n",
       "      <td>25.269987</td>\n",
       "      <td>32.997477</td>\n",
       "      <td>0.601315</td>\n",
       "      <td>32.797789</td>\n",
       "      <td>0</td>\n",
       "    </tr>\n",
       "  </tbody>\n",
       "</table>\n",
       "</div>"
      ],
      "text/plain": [
       "   Pregnancies     Glucose  BloodPressure  SkinThickness     Insulin  \\\n",
       "0            2  115.863387      56.410731      24.336736   94.385783   \n",
       "1            2   92.490122      70.615520      23.443591  138.652426   \n",
       "2            1   88.141469      63.262618      23.404364  149.358082   \n",
       "3            2  108.453101      67.793632      20.751580  108.751638   \n",
       "4            1  127.849443      94.725685      22.603078   25.269987   \n",
       "\n",
       "         BMI  DiabetesPedigreeFunction        Age  Diagnosis  \n",
       "0  26.455940                  0.272682  20.100494          0  \n",
       "1  23.910167                  0.665160  44.912281          0  \n",
       "2  21.948250                  0.676022  48.247873          1  \n",
       "3  24.209304                  0.289636  42.749868          0  \n",
       "4  32.997477                  0.601315  32.797789          0  "
      ]
     },
     "execution_count": 287,
     "metadata": {},
     "output_type": "execute_result"
    }
   ],
   "source": [
    "#Outputs first five rows of the dataset\n",
    "diabetes_dataset.head()\n"
   ]
  },
  {
   "cell_type": "code",
   "execution_count": 288,
   "metadata": {
    "execution": {
     "iopub.execute_input": "2025-08-20T19:37:46.498807Z",
     "iopub.status.busy": "2025-08-20T19:37:46.498534Z",
     "iopub.status.idle": "2025-08-20T19:37:46.518353Z",
     "shell.execute_reply": "2025-08-20T19:37:46.517346Z",
     "shell.execute_reply.started": "2025-08-20T19:37:46.498782Z"
    }
   },
   "outputs": [
    {
     "data": {
      "text/plain": [
       "(1000, 9)"
      ]
     },
     "execution_count": 288,
     "metadata": {},
     "output_type": "execute_result"
    }
   ],
   "source": [
    "#Outputs number of rows and columns in the dataset\n",
    "diabetes_dataset.shape"
   ]
  },
  {
   "cell_type": "code",
   "execution_count": 289,
   "metadata": {
    "execution": {
     "iopub.execute_input": "2025-08-20T19:37:46.520783Z",
     "iopub.status.busy": "2025-08-20T19:37:46.520479Z",
     "iopub.status.idle": "2025-08-20T19:37:46.543363Z",
     "shell.execute_reply": "2025-08-20T19:37:46.542471Z",
     "shell.execute_reply.started": "2025-08-20T19:37:46.520737Z"
    }
   },
   "outputs": [
    {
     "name": "stdout",
     "output_type": "stream",
     "text": [
      "<class 'pandas.core.frame.DataFrame'>\n",
      "RangeIndex: 1000 entries, 0 to 999\n",
      "Data columns (total 9 columns):\n",
      " #   Column                    Non-Null Count  Dtype  \n",
      "---  ------                    --------------  -----  \n",
      " 0   Pregnancies               1000 non-null   int64  \n",
      " 1   Glucose                   1000 non-null   float64\n",
      " 2   BloodPressure             1000 non-null   float64\n",
      " 3   SkinThickness             1000 non-null   float64\n",
      " 4   Insulin                   1000 non-null   float64\n",
      " 5   BMI                       1000 non-null   float64\n",
      " 6   DiabetesPedigreeFunction  1000 non-null   float64\n",
      " 7   Age                       1000 non-null   float64\n",
      " 8   Diagnosis                 1000 non-null   int64  \n",
      "dtypes: float64(7), int64(2)\n",
      "memory usage: 70.4 KB\n"
     ]
    }
   ],
   "source": [
    "#Outputs all the information\n",
    "diabetes_dataset.info()"
   ]
  },
  {
   "cell_type": "code",
   "execution_count": 290,
   "metadata": {
    "execution": {
     "iopub.execute_input": "2025-08-20T19:37:46.544432Z",
     "iopub.status.busy": "2025-08-20T19:37:46.544165Z",
     "iopub.status.idle": "2025-08-20T19:37:46.589511Z",
     "shell.execute_reply": "2025-08-20T19:37:46.588706Z",
     "shell.execute_reply.started": "2025-08-20T19:37:46.544404Z"
    }
   },
   "outputs": [
    {
     "data": {
      "text/html": [
       "<div>\n",
       "<style scoped>\n",
       "    .dataframe tbody tr th:only-of-type {\n",
       "        vertical-align: middle;\n",
       "    }\n",
       "\n",
       "    .dataframe tbody tr th {\n",
       "        vertical-align: top;\n",
       "    }\n",
       "\n",
       "    .dataframe thead th {\n",
       "        text-align: right;\n",
       "    }\n",
       "</style>\n",
       "<table border=\"1\" class=\"dataframe\">\n",
       "  <thead>\n",
       "    <tr style=\"text-align: right;\">\n",
       "      <th></th>\n",
       "      <th>Pregnancies</th>\n",
       "      <th>Glucose</th>\n",
       "      <th>BloodPressure</th>\n",
       "      <th>SkinThickness</th>\n",
       "      <th>Insulin</th>\n",
       "      <th>BMI</th>\n",
       "      <th>DiabetesPedigreeFunction</th>\n",
       "      <th>Age</th>\n",
       "      <th>Diagnosis</th>\n",
       "    </tr>\n",
       "  </thead>\n",
       "  <tbody>\n",
       "    <tr>\n",
       "      <th>count</th>\n",
       "      <td>1000.000000</td>\n",
       "      <td>1000.000000</td>\n",
       "      <td>1000.000000</td>\n",
       "      <td>1000.000000</td>\n",
       "      <td>1000.000000</td>\n",
       "      <td>1000.000000</td>\n",
       "      <td>1000.000000</td>\n",
       "      <td>1000.000000</td>\n",
       "      <td>1000.00000</td>\n",
       "    </tr>\n",
       "    <tr>\n",
       "      <th>mean</th>\n",
       "      <td>1.771000</td>\n",
       "      <td>99.440607</td>\n",
       "      <td>72.179837</td>\n",
       "      <td>23.278316</td>\n",
       "      <td>84.582679</td>\n",
       "      <td>25.433600</td>\n",
       "      <td>0.449383</td>\n",
       "      <td>43.281798</td>\n",
       "      <td>0.30600</td>\n",
       "    </tr>\n",
       "    <tr>\n",
       "      <th>std</th>\n",
       "      <td>1.354398</td>\n",
       "      <td>19.470730</td>\n",
       "      <td>13.882017</td>\n",
       "      <td>1.173807</td>\n",
       "      <td>74.872733</td>\n",
       "      <td>3.690223</td>\n",
       "      <td>0.199334</td>\n",
       "      <td>14.465398</td>\n",
       "      <td>0.46106</td>\n",
       "    </tr>\n",
       "    <tr>\n",
       "      <th>min</th>\n",
       "      <td>0.000000</td>\n",
       "      <td>30.571402</td>\n",
       "      <td>31.401487</td>\n",
       "      <td>19.369987</td>\n",
       "      <td>-165.310033</td>\n",
       "      <td>13.548818</td>\n",
       "      <td>0.100037</td>\n",
       "      <td>-0.979804</td>\n",
       "      <td>0.00000</td>\n",
       "    </tr>\n",
       "    <tr>\n",
       "      <th>25%</th>\n",
       "      <td>1.000000</td>\n",
       "      <td>86.145927</td>\n",
       "      <td>62.795447</td>\n",
       "      <td>22.501591</td>\n",
       "      <td>35.076535</td>\n",
       "      <td>23.022715</td>\n",
       "      <td>0.283376</td>\n",
       "      <td>33.518451</td>\n",
       "      <td>0.00000</td>\n",
       "    </tr>\n",
       "    <tr>\n",
       "      <th>50%</th>\n",
       "      <td>2.000000</td>\n",
       "      <td>99.458362</td>\n",
       "      <td>71.909588</td>\n",
       "      <td>23.275225</td>\n",
       "      <td>84.442232</td>\n",
       "      <td>25.455649</td>\n",
       "      <td>0.448219</td>\n",
       "      <td>43.634273</td>\n",
       "      <td>0.00000</td>\n",
       "    </tr>\n",
       "    <tr>\n",
       "      <th>75%</th>\n",
       "      <td>3.000000</td>\n",
       "      <td>113.264556</td>\n",
       "      <td>82.082660</td>\n",
       "      <td>24.052022</td>\n",
       "      <td>134.267842</td>\n",
       "      <td>27.972184</td>\n",
       "      <td>0.619158</td>\n",
       "      <td>53.098446</td>\n",
       "      <td>1.00000</td>\n",
       "    </tr>\n",
       "    <tr>\n",
       "      <th>max</th>\n",
       "      <td>8.000000</td>\n",
       "      <td>161.238939</td>\n",
       "      <td>110.723715</td>\n",
       "      <td>26.917654</td>\n",
       "      <td>317.701852</td>\n",
       "      <td>36.324598</td>\n",
       "      <td>0.799654</td>\n",
       "      <td>90.573782</td>\n",
       "      <td>1.00000</td>\n",
       "    </tr>\n",
       "  </tbody>\n",
       "</table>\n",
       "</div>"
      ],
      "text/plain": [
       "       Pregnancies      Glucose  BloodPressure  SkinThickness      Insulin  \\\n",
       "count  1000.000000  1000.000000    1000.000000    1000.000000  1000.000000   \n",
       "mean      1.771000    99.440607      72.179837      23.278316    84.582679   \n",
       "std       1.354398    19.470730      13.882017       1.173807    74.872733   \n",
       "min       0.000000    30.571402      31.401487      19.369987  -165.310033   \n",
       "25%       1.000000    86.145927      62.795447      22.501591    35.076535   \n",
       "50%       2.000000    99.458362      71.909588      23.275225    84.442232   \n",
       "75%       3.000000   113.264556      82.082660      24.052022   134.267842   \n",
       "max       8.000000   161.238939     110.723715      26.917654   317.701852   \n",
       "\n",
       "               BMI  DiabetesPedigreeFunction          Age   Diagnosis  \n",
       "count  1000.000000               1000.000000  1000.000000  1000.00000  \n",
       "mean     25.433600                  0.449383    43.281798     0.30600  \n",
       "std       3.690223                  0.199334    14.465398     0.46106  \n",
       "min      13.548818                  0.100037    -0.979804     0.00000  \n",
       "25%      23.022715                  0.283376    33.518451     0.00000  \n",
       "50%      25.455649                  0.448219    43.634273     0.00000  \n",
       "75%      27.972184                  0.619158    53.098446     1.00000  \n",
       "max      36.324598                  0.799654    90.573782     1.00000  "
      ]
     },
     "execution_count": 290,
     "metadata": {},
     "output_type": "execute_result"
    }
   ],
   "source": [
    "#Outputs Statistical Measures\n",
    "diabetes_dataset.describe()"
   ]
  },
  {
   "cell_type": "code",
   "execution_count": 291,
   "metadata": {
    "execution": {
     "iopub.execute_input": "2025-08-20T19:37:46.590563Z",
     "iopub.status.busy": "2025-08-20T19:37:46.590308Z",
     "iopub.status.idle": "2025-08-20T19:37:46.597381Z",
     "shell.execute_reply": "2025-08-20T19:37:46.596456Z",
     "shell.execute_reply.started": "2025-08-20T19:37:46.590541Z"
    }
   },
   "outputs": [
    {
     "data": {
      "text/plain": [
       "Diagnosis\n",
       "0    694\n",
       "1    306\n",
       "Name: count, dtype: int64"
      ]
     },
     "execution_count": 291,
     "metadata": {},
     "output_type": "execute_result"
    }
   ],
   "source": [
    "#Binary label indicating whether the individual has diabetes (1) or not (0).\n",
    "diabetes_dataset['Diagnosis'].value_counts()"
   ]
  },
  {
   "cell_type": "code",
   "execution_count": 292,
   "metadata": {
    "execution": {
     "iopub.execute_input": "2025-08-20T19:37:46.598643Z",
     "iopub.status.busy": "2025-08-20T19:37:46.598359Z",
     "iopub.status.idle": "2025-08-20T19:37:46.630734Z",
     "shell.execute_reply": "2025-08-20T19:37:46.629766Z",
     "shell.execute_reply.started": "2025-08-20T19:37:46.598613Z"
    }
   },
   "outputs": [
    {
     "data": {
      "text/html": [
       "<div>\n",
       "<style scoped>\n",
       "    .dataframe tbody tr th:only-of-type {\n",
       "        vertical-align: middle;\n",
       "    }\n",
       "\n",
       "    .dataframe tbody tr th {\n",
       "        vertical-align: top;\n",
       "    }\n",
       "\n",
       "    .dataframe thead th {\n",
       "        text-align: right;\n",
       "    }\n",
       "</style>\n",
       "<table border=\"1\" class=\"dataframe\">\n",
       "  <thead>\n",
       "    <tr style=\"text-align: right;\">\n",
       "      <th></th>\n",
       "      <th>Pregnancies</th>\n",
       "      <th>Glucose</th>\n",
       "      <th>BloodPressure</th>\n",
       "      <th>SkinThickness</th>\n",
       "      <th>Insulin</th>\n",
       "      <th>BMI</th>\n",
       "      <th>DiabetesPedigreeFunction</th>\n",
       "      <th>Age</th>\n",
       "    </tr>\n",
       "    <tr>\n",
       "      <th>Diagnosis</th>\n",
       "      <th></th>\n",
       "      <th></th>\n",
       "      <th></th>\n",
       "      <th></th>\n",
       "      <th></th>\n",
       "      <th></th>\n",
       "      <th></th>\n",
       "      <th></th>\n",
       "    </tr>\n",
       "  </thead>\n",
       "  <tbody>\n",
       "    <tr>\n",
       "      <th>0</th>\n",
       "      <td>1.772334</td>\n",
       "      <td>99.504846</td>\n",
       "      <td>72.084485</td>\n",
       "      <td>23.278327</td>\n",
       "      <td>82.823035</td>\n",
       "      <td>25.515244</td>\n",
       "      <td>0.441372</td>\n",
       "      <td>43.711192</td>\n",
       "    </tr>\n",
       "    <tr>\n",
       "      <th>1</th>\n",
       "      <td>1.767974</td>\n",
       "      <td>99.294917</td>\n",
       "      <td>72.396092</td>\n",
       "      <td>23.278291</td>\n",
       "      <td>88.573505</td>\n",
       "      <td>25.248433</td>\n",
       "      <td>0.467550</td>\n",
       "      <td>42.307942</td>\n",
       "    </tr>\n",
       "  </tbody>\n",
       "</table>\n",
       "</div>"
      ],
      "text/plain": [
       "           Pregnancies    Glucose  BloodPressure  SkinThickness    Insulin  \\\n",
       "Diagnosis                                                                    \n",
       "0             1.772334  99.504846      72.084485      23.278327  82.823035   \n",
       "1             1.767974  99.294917      72.396092      23.278291  88.573505   \n",
       "\n",
       "                 BMI  DiabetesPedigreeFunction        Age  \n",
       "Diagnosis                                                  \n",
       "0          25.515244                  0.441372  43.711192  \n",
       "1          25.248433                  0.467550  42.307942  "
      ]
     },
     "execution_count": 292,
     "metadata": {},
     "output_type": "execute_result"
    }
   ],
   "source": [
    "#Grouping the diagnosis column and deriving mean\n",
    "diabetes_dataset.groupby('Diagnosis').mean()"
   ]
  },
  {
   "cell_type": "code",
   "execution_count": 293,
   "metadata": {
    "execution": {
     "iopub.execute_input": "2025-08-20T19:37:46.631709Z",
     "iopub.status.busy": "2025-08-20T19:37:46.631425Z",
     "iopub.status.idle": "2025-08-20T19:37:46.650363Z",
     "shell.execute_reply": "2025-08-20T19:37:46.649336Z",
     "shell.execute_reply.started": "2025-08-20T19:37:46.631683Z"
    }
   },
   "outputs": [],
   "source": [
    "#seperating data and labeles \n",
    "X = diabetes_dataset.drop(columns = 'Diagnosis' , axis=1)\n",
    "Y = diabetes_dataset ['Diagnosis']"
   ]
  },
  {
   "cell_type": "code",
   "execution_count": 294,
   "metadata": {
    "execution": {
     "iopub.execute_input": "2025-08-20T19:37:46.651545Z",
     "iopub.status.busy": "2025-08-20T19:37:46.651296Z",
     "iopub.status.idle": "2025-08-20T19:37:46.673223Z",
     "shell.execute_reply": "2025-08-20T19:37:46.672337Z",
     "shell.execute_reply.started": "2025-08-20T19:37:46.651523Z"
    }
   },
   "outputs": [
    {
     "name": "stdout",
     "output_type": "stream",
     "text": [
      "     Pregnancies     Glucose  BloodPressure  SkinThickness     Insulin  \\\n",
      "0              2  115.863387      56.410731      24.336736   94.385783   \n",
      "1              2   92.490122      70.615520      23.443591  138.652426   \n",
      "2              1   88.141469      63.262618      23.404364  149.358082   \n",
      "3              2  108.453101      67.793632      20.751580  108.751638   \n",
      "4              1  127.849443      94.725685      22.603078   25.269987   \n",
      "..           ...         ...            ...            ...         ...   \n",
      "995            1  103.496355      41.059401      24.930299   43.675978   \n",
      "996            1   60.714150      64.082842      24.689064  111.562745   \n",
      "997            0   97.597727      64.122312      22.140339  108.138552   \n",
      "998            0   66.775137      55.908797      24.885274  219.521484   \n",
      "999            0   87.647268      69.111593      25.621266  134.335745   \n",
      "\n",
      "           BMI  DiabetesPedigreeFunction        Age  \n",
      "0    26.455940                  0.272682  20.100494  \n",
      "1    23.910167                  0.665160  44.912281  \n",
      "2    21.948250                  0.676022  48.247873  \n",
      "3    24.209304                  0.289636  42.749868  \n",
      "4    32.997477                  0.601315  32.797789  \n",
      "..         ...                       ...        ...  \n",
      "995  25.846062                  0.455884  19.905419  \n",
      "996  19.464280                  0.250560  44.421874  \n",
      "997  22.733052                  0.761463  58.949800  \n",
      "998  31.819187                  0.382877  46.928923  \n",
      "999  31.098746                  0.605828  41.785889  \n",
      "\n",
      "[1000 rows x 8 columns]\n"
     ]
    }
   ],
   "source": [
    "print (X )\n"
   ]
  },
  {
   "cell_type": "code",
   "execution_count": 295,
   "metadata": {
    "execution": {
     "iopub.execute_input": "2025-08-20T19:37:46.674381Z",
     "iopub.status.busy": "2025-08-20T19:37:46.674140Z",
     "iopub.status.idle": "2025-08-20T19:37:46.694350Z",
     "shell.execute_reply": "2025-08-20T19:37:46.693511Z",
     "shell.execute_reply.started": "2025-08-20T19:37:46.674361Z"
    }
   },
   "outputs": [
    {
     "name": "stdout",
     "output_type": "stream",
     "text": [
      "0      0\n",
      "1      0\n",
      "2      1\n",
      "3      0\n",
      "4      0\n",
      "      ..\n",
      "995    0\n",
      "996    1\n",
      "997    1\n",
      "998    0\n",
      "999    1\n",
      "Name: Diagnosis, Length: 1000, dtype: int64\n"
     ]
    }
   ],
   "source": [
    "print(Y)"
   ]
  },
  {
   "cell_type": "markdown",
   "metadata": {},
   "source": [
    "**Data Standardization**"
   ]
  },
  {
   "cell_type": "code",
   "execution_count": 296,
   "metadata": {
    "execution": {
     "iopub.execute_input": "2025-08-20T19:37:46.695608Z",
     "iopub.status.busy": "2025-08-20T19:37:46.695283Z",
     "iopub.status.idle": "2025-08-20T19:37:46.711640Z",
     "shell.execute_reply": "2025-08-20T19:37:46.710762Z",
     "shell.execute_reply.started": "2025-08-20T19:37:46.695578Z"
    }
   },
   "outputs": [],
   "source": [
    "#Creates a scaler that standardizes data so each feature has mean=0 and standard deviation=1\n",
    "scaler = StandardScaler()"
   ]
  },
  {
   "cell_type": "code",
   "execution_count": 297,
   "metadata": {
    "execution": {
     "iopub.execute_input": "2025-08-20T19:37:46.712941Z",
     "iopub.status.busy": "2025-08-20T19:37:46.712659Z",
     "iopub.status.idle": "2025-08-20T19:37:46.732326Z",
     "shell.execute_reply": "2025-08-20T19:37:46.731474Z",
     "shell.execute_reply.started": "2025-08-20T19:37:46.712918Z"
    }
   },
   "outputs": [
    {
     "data": {
      "text/html": [
       "<style>#sk-container-id-17 {color: black;background-color: white;}#sk-container-id-17 pre{padding: 0;}#sk-container-id-17 div.sk-toggleable {background-color: white;}#sk-container-id-17 label.sk-toggleable__label {cursor: pointer;display: block;width: 100%;margin-bottom: 0;padding: 0.3em;box-sizing: border-box;text-align: center;}#sk-container-id-17 label.sk-toggleable__label-arrow:before {content: \"▸\";float: left;margin-right: 0.25em;color: #696969;}#sk-container-id-17 label.sk-toggleable__label-arrow:hover:before {color: black;}#sk-container-id-17 div.sk-estimator:hover label.sk-toggleable__label-arrow:before {color: black;}#sk-container-id-17 div.sk-toggleable__content {max-height: 0;max-width: 0;overflow: hidden;text-align: left;background-color: #f0f8ff;}#sk-container-id-17 div.sk-toggleable__content pre {margin: 0.2em;color: black;border-radius: 0.25em;background-color: #f0f8ff;}#sk-container-id-17 input.sk-toggleable__control:checked~div.sk-toggleable__content {max-height: 200px;max-width: 100%;overflow: auto;}#sk-container-id-17 input.sk-toggleable__control:checked~label.sk-toggleable__label-arrow:before {content: \"▾\";}#sk-container-id-17 div.sk-estimator input.sk-toggleable__control:checked~label.sk-toggleable__label {background-color: #d4ebff;}#sk-container-id-17 div.sk-label input.sk-toggleable__control:checked~label.sk-toggleable__label {background-color: #d4ebff;}#sk-container-id-17 input.sk-hidden--visually {border: 0;clip: rect(1px 1px 1px 1px);clip: rect(1px, 1px, 1px, 1px);height: 1px;margin: -1px;overflow: hidden;padding: 0;position: absolute;width: 1px;}#sk-container-id-17 div.sk-estimator {font-family: monospace;background-color: #f0f8ff;border: 1px dotted black;border-radius: 0.25em;box-sizing: border-box;margin-bottom: 0.5em;}#sk-container-id-17 div.sk-estimator:hover {background-color: #d4ebff;}#sk-container-id-17 div.sk-parallel-item::after {content: \"\";width: 100%;border-bottom: 1px solid gray;flex-grow: 1;}#sk-container-id-17 div.sk-label:hover label.sk-toggleable__label {background-color: #d4ebff;}#sk-container-id-17 div.sk-serial::before {content: \"\";position: absolute;border-left: 1px solid gray;box-sizing: border-box;top: 0;bottom: 0;left: 50%;z-index: 0;}#sk-container-id-17 div.sk-serial {display: flex;flex-direction: column;align-items: center;background-color: white;padding-right: 0.2em;padding-left: 0.2em;position: relative;}#sk-container-id-17 div.sk-item {position: relative;z-index: 1;}#sk-container-id-17 div.sk-parallel {display: flex;align-items: stretch;justify-content: center;background-color: white;position: relative;}#sk-container-id-17 div.sk-item::before, #sk-container-id-17 div.sk-parallel-item::before {content: \"\";position: absolute;border-left: 1px solid gray;box-sizing: border-box;top: 0;bottom: 0;left: 50%;z-index: -1;}#sk-container-id-17 div.sk-parallel-item {display: flex;flex-direction: column;z-index: 1;position: relative;background-color: white;}#sk-container-id-17 div.sk-parallel-item:first-child::after {align-self: flex-end;width: 50%;}#sk-container-id-17 div.sk-parallel-item:last-child::after {align-self: flex-start;width: 50%;}#sk-container-id-17 div.sk-parallel-item:only-child::after {width: 0;}#sk-container-id-17 div.sk-dashed-wrapped {border: 1px dashed gray;margin: 0 0.4em 0.5em 0.4em;box-sizing: border-box;padding-bottom: 0.4em;background-color: white;}#sk-container-id-17 div.sk-label label {font-family: monospace;font-weight: bold;display: inline-block;line-height: 1.2em;}#sk-container-id-17 div.sk-label-container {text-align: center;}#sk-container-id-17 div.sk-container {/* jupyter's `normalize.less` sets `[hidden] { display: none; }` but bootstrap.min.css set `[hidden] { display: none !important; }` so we also need the `!important` here to be able to override the default hidden behavior on the sphinx rendered scikit-learn.org. See: https://github.com/scikit-learn/scikit-learn/issues/21755 */display: inline-block !important;position: relative;}#sk-container-id-17 div.sk-text-repr-fallback {display: none;}</style><div id=\"sk-container-id-17\" class=\"sk-top-container\"><div class=\"sk-text-repr-fallback\"><pre>StandardScaler()</pre><b>In a Jupyter environment, please rerun this cell to show the HTML representation or trust the notebook. <br />On GitHub, the HTML representation is unable to render, please try loading this page with nbviewer.org.</b></div><div class=\"sk-container\" hidden><div class=\"sk-item\"><div class=\"sk-estimator sk-toggleable\"><input class=\"sk-toggleable__control sk-hidden--visually\" id=\"sk-estimator-id-17\" type=\"checkbox\" checked><label for=\"sk-estimator-id-17\" class=\"sk-toggleable__label sk-toggleable__label-arrow\">StandardScaler</label><div class=\"sk-toggleable__content\"><pre>StandardScaler()</pre></div></div></div></div></div>"
      ],
      "text/plain": [
       "StandardScaler()"
      ]
     },
     "execution_count": 297,
     "metadata": {},
     "output_type": "execute_result"
    }
   ],
   "source": [
    "#learns the mean and standard deviation of each feature in X\n",
    "scaler.fit(X)"
   ]
  },
  {
   "cell_type": "code",
   "execution_count": 298,
   "metadata": {
    "execution": {
     "iopub.execute_input": "2025-08-20T19:37:46.735586Z",
     "iopub.status.busy": "2025-08-20T19:37:46.735330Z",
     "iopub.status.idle": "2025-08-20T19:37:46.749650Z",
     "shell.execute_reply": "2025-08-20T19:37:46.748705Z",
     "shell.execute_reply.started": "2025-08-20T19:37:46.735557Z"
    }
   },
   "outputs": [],
   "source": [
    "#Uses the learned mean & std to actually scale X so each feature has mean=0 and std=1\n",
    "standardized_data = scaler.transform(X)"
   ]
  },
  {
   "cell_type": "code",
   "execution_count": 299,
   "metadata": {
    "execution": {
     "iopub.execute_input": "2025-08-20T19:37:46.750846Z",
     "iopub.status.busy": "2025-08-20T19:37:46.750477Z",
     "iopub.status.idle": "2025-08-20T19:37:46.769992Z",
     "shell.execute_reply": "2025-08-20T19:37:46.768837Z",
     "shell.execute_reply.started": "2025-08-20T19:37:46.750815Z"
    }
   },
   "outputs": [
    {
     "name": "stdout",
     "output_type": "stream",
     "text": [
      "[[ 0.16916344  0.84388194 -1.13650602 ...  0.27717891 -0.88689813\n",
      "  -1.60333665]\n",
      " [ 0.16916344 -0.35714958 -0.11274294 ... -0.41303606  1.08302816\n",
      "   0.11277251]\n",
      " [-0.56954153 -0.58060442 -0.64267896 ... -0.94495457  1.13754671\n",
      "   0.34347898]\n",
      " ...\n",
      " [-1.30824649 -0.09469611 -0.58071939 ... -0.73217763  1.56639535\n",
      "   1.08367856]\n",
      " [-1.30824649 -1.67851002 -1.17268119 ...  1.73127265 -0.33380688\n",
      "   0.25225371]\n",
      " [-1.30824649 -0.60599888 -0.2211335  ...  1.53594517  0.78523145\n",
      "  -0.10346468]]\n"
     ]
    }
   ],
   "source": [
    "print (standardized_data)"
   ]
  },
  {
   "cell_type": "code",
   "execution_count": 300,
   "metadata": {
    "execution": {
     "iopub.execute_input": "2025-08-20T19:37:46.771301Z",
     "iopub.status.busy": "2025-08-20T19:37:46.771027Z",
     "iopub.status.idle": "2025-08-20T19:37:46.787902Z",
     "shell.execute_reply": "2025-08-20T19:37:46.786822Z",
     "shell.execute_reply.started": "2025-08-20T19:37:46.771270Z"
    }
   },
   "outputs": [],
   "source": [
    "X = standardized_data #Store the scaled feature values in X \n",
    "Y = diabetes_dataset ['Diagnosis'] # target/label we want to predict"
   ]
  },
  {
   "cell_type": "code",
   "execution_count": 301,
   "metadata": {
    "execution": {
     "iopub.execute_input": "2025-08-20T19:37:46.789467Z",
     "iopub.status.busy": "2025-08-20T19:37:46.789096Z",
     "iopub.status.idle": "2025-08-20T19:37:46.810047Z",
     "shell.execute_reply": "2025-08-20T19:37:46.809173Z",
     "shell.execute_reply.started": "2025-08-20T19:37:46.789440Z"
    }
   },
   "outputs": [
    {
     "name": "stdout",
     "output_type": "stream",
     "text": [
      "[[ 0.16916344  0.84388194 -1.13650602 ...  0.27717891 -0.88689813\n",
      "  -1.60333665]\n",
      " [ 0.16916344 -0.35714958 -0.11274294 ... -0.41303606  1.08302816\n",
      "   0.11277251]\n",
      " [-0.56954153 -0.58060442 -0.64267896 ... -0.94495457  1.13754671\n",
      "   0.34347898]\n",
      " ...\n",
      " [-1.30824649 -0.09469611 -0.58071939 ... -0.73217763  1.56639535\n",
      "   1.08367856]\n",
      " [-1.30824649 -1.67851002 -1.17268119 ...  1.73127265 -0.33380688\n",
      "   0.25225371]\n",
      " [-1.30824649 -0.60599888 -0.2211335  ...  1.53594517  0.78523145\n",
      "  -0.10346468]]\n",
      "0      0\n",
      "1      0\n",
      "2      1\n",
      "3      0\n",
      "4      0\n",
      "      ..\n",
      "995    0\n",
      "996    1\n",
      "997    1\n",
      "998    0\n",
      "999    1\n",
      "Name: Diagnosis, Length: 1000, dtype: int64\n"
     ]
    }
   ],
   "source": [
    "print (X)\n",
    "print(Y)"
   ]
  },
  {
   "cell_type": "markdown",
   "metadata": {},
   "source": [
    "**Train Test Split**"
   ]
  },
  {
   "cell_type": "code",
   "execution_count": 302,
   "metadata": {
    "execution": {
     "iopub.execute_input": "2025-08-20T19:37:46.811146Z",
     "iopub.status.busy": "2025-08-20T19:37:46.810928Z",
     "iopub.status.idle": "2025-08-20T19:37:46.829881Z",
     "shell.execute_reply": "2025-08-20T19:37:46.828957Z",
     "shell.execute_reply.started": "2025-08-20T19:37:46.811128Z"
    }
   },
   "outputs": [],
   "source": [
    "#Splitting the dataset into training and testing\n",
    "X_train ,X_test,Y_train ,Y_test = train_test_split (X,Y ,test_size = 0.2, stratify = Y , random_state = 2) "
   ]
  },
  {
   "cell_type": "code",
   "execution_count": 303,
   "metadata": {
    "execution": {
     "iopub.execute_input": "2025-08-20T19:37:46.831119Z",
     "iopub.status.busy": "2025-08-20T19:37:46.830813Z",
     "iopub.status.idle": "2025-08-20T19:37:46.846295Z",
     "shell.execute_reply": "2025-08-20T19:37:46.845357Z",
     "shell.execute_reply.started": "2025-08-20T19:37:46.831090Z"
    }
   },
   "outputs": [
    {
     "name": "stdout",
     "output_type": "stream",
     "text": [
      "(1000, 8) (800, 8) (200, 8)\n"
     ]
    }
   ],
   "source": [
    "print (X.shape , X_train.shape , X_test.shape)"
   ]
  },
  {
   "cell_type": "markdown",
   "metadata": {},
   "source": [
    "**Training the Model**"
   ]
  },
  {
   "cell_type": "code",
   "execution_count": 304,
   "metadata": {
    "execution": {
     "iopub.execute_input": "2025-08-20T19:37:46.847477Z",
     "iopub.status.busy": "2025-08-20T19:37:46.847212Z",
     "iopub.status.idle": "2025-08-20T19:37:46.863665Z",
     "shell.execute_reply": "2025-08-20T19:37:46.862860Z",
     "shell.execute_reply.started": "2025-08-20T19:37:46.847456Z"
    }
   },
   "outputs": [],
   "source": [
    "#Create an SVM classifier that tries to separate data using a straight line (linear decision boundary)\n",
    "classifier = svm.SVC(kernel = 'linear')"
   ]
  },
  {
   "cell_type": "markdown",
   "metadata": {},
   "source": [
    "**Training the SVM Classifier**"
   ]
  },
  {
   "cell_type": "code",
   "execution_count": 305,
   "metadata": {
    "execution": {
     "iopub.execute_input": "2025-08-20T19:37:46.864932Z",
     "iopub.status.busy": "2025-08-20T19:37:46.864651Z",
     "iopub.status.idle": "2025-08-20T19:37:46.901105Z",
     "shell.execute_reply": "2025-08-20T19:37:46.900164Z",
     "shell.execute_reply.started": "2025-08-20T19:37:46.864911Z"
    }
   },
   "outputs": [
    {
     "data": {
      "text/html": [
       "<style>#sk-container-id-18 {color: black;background-color: white;}#sk-container-id-18 pre{padding: 0;}#sk-container-id-18 div.sk-toggleable {background-color: white;}#sk-container-id-18 label.sk-toggleable__label {cursor: pointer;display: block;width: 100%;margin-bottom: 0;padding: 0.3em;box-sizing: border-box;text-align: center;}#sk-container-id-18 label.sk-toggleable__label-arrow:before {content: \"▸\";float: left;margin-right: 0.25em;color: #696969;}#sk-container-id-18 label.sk-toggleable__label-arrow:hover:before {color: black;}#sk-container-id-18 div.sk-estimator:hover label.sk-toggleable__label-arrow:before {color: black;}#sk-container-id-18 div.sk-toggleable__content {max-height: 0;max-width: 0;overflow: hidden;text-align: left;background-color: #f0f8ff;}#sk-container-id-18 div.sk-toggleable__content pre {margin: 0.2em;color: black;border-radius: 0.25em;background-color: #f0f8ff;}#sk-container-id-18 input.sk-toggleable__control:checked~div.sk-toggleable__content {max-height: 200px;max-width: 100%;overflow: auto;}#sk-container-id-18 input.sk-toggleable__control:checked~label.sk-toggleable__label-arrow:before {content: \"▾\";}#sk-container-id-18 div.sk-estimator input.sk-toggleable__control:checked~label.sk-toggleable__label {background-color: #d4ebff;}#sk-container-id-18 div.sk-label input.sk-toggleable__control:checked~label.sk-toggleable__label {background-color: #d4ebff;}#sk-container-id-18 input.sk-hidden--visually {border: 0;clip: rect(1px 1px 1px 1px);clip: rect(1px, 1px, 1px, 1px);height: 1px;margin: -1px;overflow: hidden;padding: 0;position: absolute;width: 1px;}#sk-container-id-18 div.sk-estimator {font-family: monospace;background-color: #f0f8ff;border: 1px dotted black;border-radius: 0.25em;box-sizing: border-box;margin-bottom: 0.5em;}#sk-container-id-18 div.sk-estimator:hover {background-color: #d4ebff;}#sk-container-id-18 div.sk-parallel-item::after {content: \"\";width: 100%;border-bottom: 1px solid gray;flex-grow: 1;}#sk-container-id-18 div.sk-label:hover label.sk-toggleable__label {background-color: #d4ebff;}#sk-container-id-18 div.sk-serial::before {content: \"\";position: absolute;border-left: 1px solid gray;box-sizing: border-box;top: 0;bottom: 0;left: 50%;z-index: 0;}#sk-container-id-18 div.sk-serial {display: flex;flex-direction: column;align-items: center;background-color: white;padding-right: 0.2em;padding-left: 0.2em;position: relative;}#sk-container-id-18 div.sk-item {position: relative;z-index: 1;}#sk-container-id-18 div.sk-parallel {display: flex;align-items: stretch;justify-content: center;background-color: white;position: relative;}#sk-container-id-18 div.sk-item::before, #sk-container-id-18 div.sk-parallel-item::before {content: \"\";position: absolute;border-left: 1px solid gray;box-sizing: border-box;top: 0;bottom: 0;left: 50%;z-index: -1;}#sk-container-id-18 div.sk-parallel-item {display: flex;flex-direction: column;z-index: 1;position: relative;background-color: white;}#sk-container-id-18 div.sk-parallel-item:first-child::after {align-self: flex-end;width: 50%;}#sk-container-id-18 div.sk-parallel-item:last-child::after {align-self: flex-start;width: 50%;}#sk-container-id-18 div.sk-parallel-item:only-child::after {width: 0;}#sk-container-id-18 div.sk-dashed-wrapped {border: 1px dashed gray;margin: 0 0.4em 0.5em 0.4em;box-sizing: border-box;padding-bottom: 0.4em;background-color: white;}#sk-container-id-18 div.sk-label label {font-family: monospace;font-weight: bold;display: inline-block;line-height: 1.2em;}#sk-container-id-18 div.sk-label-container {text-align: center;}#sk-container-id-18 div.sk-container {/* jupyter's `normalize.less` sets `[hidden] { display: none; }` but bootstrap.min.css set `[hidden] { display: none !important; }` so we also need the `!important` here to be able to override the default hidden behavior on the sphinx rendered scikit-learn.org. See: https://github.com/scikit-learn/scikit-learn/issues/21755 */display: inline-block !important;position: relative;}#sk-container-id-18 div.sk-text-repr-fallback {display: none;}</style><div id=\"sk-container-id-18\" class=\"sk-top-container\"><div class=\"sk-text-repr-fallback\"><pre>SVC(kernel=&#x27;linear&#x27;)</pre><b>In a Jupyter environment, please rerun this cell to show the HTML representation or trust the notebook. <br />On GitHub, the HTML representation is unable to render, please try loading this page with nbviewer.org.</b></div><div class=\"sk-container\" hidden><div class=\"sk-item\"><div class=\"sk-estimator sk-toggleable\"><input class=\"sk-toggleable__control sk-hidden--visually\" id=\"sk-estimator-id-18\" type=\"checkbox\" checked><label for=\"sk-estimator-id-18\" class=\"sk-toggleable__label sk-toggleable__label-arrow\">SVC</label><div class=\"sk-toggleable__content\"><pre>SVC(kernel=&#x27;linear&#x27;)</pre></div></div></div></div></div>"
      ],
      "text/plain": [
       "SVC(kernel='linear')"
      ]
     },
     "execution_count": 305,
     "metadata": {},
     "output_type": "execute_result"
    }
   ],
   "source": [
    "#Trains the SVM model using the training data (X_train = features, Y_train = labels) \n",
    "classifier.fit(X_train ,Y_train)"
   ]
  },
  {
   "cell_type": "markdown",
   "metadata": {},
   "source": [
    "**Model Evaluation**"
   ]
  },
  {
   "cell_type": "code",
   "execution_count": 306,
   "metadata": {
    "execution": {
     "iopub.execute_input": "2025-08-20T19:37:46.902332Z",
     "iopub.status.busy": "2025-08-20T19:37:46.902077Z",
     "iopub.status.idle": "2025-08-20T19:37:46.919048Z",
     "shell.execute_reply": "2025-08-20T19:37:46.918060Z",
     "shell.execute_reply.started": "2025-08-20T19:37:46.902309Z"
    }
   },
   "outputs": [],
   "source": [
    "#Accuracy Score of Training data \n",
    "\n",
    "X_train_prediction = classifier.predict(X_train)\n",
    "training_data_accuracy = accuracy_score (X_train_prediction , Y_train)"
   ]
  },
  {
   "cell_type": "code",
   "execution_count": 307,
   "metadata": {
    "execution": {
     "iopub.execute_input": "2025-08-20T19:37:46.920145Z",
     "iopub.status.busy": "2025-08-20T19:37:46.919899Z",
     "iopub.status.idle": "2025-08-20T19:37:46.925484Z",
     "shell.execute_reply": "2025-08-20T19:37:46.924547Z",
     "shell.execute_reply.started": "2025-08-20T19:37:46.920125Z"
    }
   },
   "outputs": [
    {
     "name": "stdout",
     "output_type": "stream",
     "text": [
      "Accuracy score of the training  data :  0.69375\n"
     ]
    }
   ],
   "source": [
    "print('Accuracy score of the training  data : ',training_data_accuracy)"
   ]
  },
  {
   "cell_type": "code",
   "execution_count": 308,
   "metadata": {
    "execution": {
     "iopub.execute_input": "2025-08-20T19:37:46.927225Z",
     "iopub.status.busy": "2025-08-20T19:37:46.926918Z",
     "iopub.status.idle": "2025-08-20T19:37:46.949139Z",
     "shell.execute_reply": "2025-08-20T19:37:46.948172Z",
     "shell.execute_reply.started": "2025-08-20T19:37:46.927194Z"
    }
   },
   "outputs": [],
   "source": [
    "#Accuracy Score of Test data \n",
    "\n",
    "X_test_prediction = classifier.predict(X_test)\n",
    "test_data_accuracy = accuracy_score (X_test_prediction , Y_test)"
   ]
  },
  {
   "cell_type": "code",
   "execution_count": 309,
   "metadata": {
    "execution": {
     "iopub.execute_input": "2025-08-20T19:37:46.950382Z",
     "iopub.status.busy": "2025-08-20T19:37:46.950113Z",
     "iopub.status.idle": "2025-08-20T19:37:46.957233Z",
     "shell.execute_reply": "2025-08-20T19:37:46.956442Z",
     "shell.execute_reply.started": "2025-08-20T19:37:46.950355Z"
    }
   },
   "outputs": [
    {
     "name": "stdout",
     "output_type": "stream",
     "text": [
      "Accuracy score of the training  data :  0.695\n"
     ]
    }
   ],
   "source": [
    "print('Accuracy score of the training  data : ',test_data_accuracy)"
   ]
  },
  {
   "cell_type": "markdown",
   "metadata": {},
   "source": [
    "**Making a Predictive System**"
   ]
  },
  {
   "cell_type": "code",
   "execution_count": 310,
   "metadata": {
    "execution": {
     "iopub.execute_input": "2025-08-20T19:37:46.958310Z",
     "iopub.status.busy": "2025-08-20T19:37:46.958006Z",
     "iopub.status.idle": "2025-08-20T19:37:46.976013Z",
     "shell.execute_reply": "2025-08-20T19:37:46.975148Z",
     "shell.execute_reply.started": "2025-08-20T19:37:46.958283Z"
    }
   },
   "outputs": [],
   "source": [
    "input_data = (3,95.665270,\t54.157100,\t23.927648,\t130.989859,\t29.235840\t,0.461786\t,18.669086)"
   ]
  },
  {
   "cell_type": "code",
   "execution_count": 311,
   "metadata": {
    "execution": {
     "iopub.execute_input": "2025-08-20T19:37:46.977220Z",
     "iopub.status.busy": "2025-08-20T19:37:46.976950Z",
     "iopub.status.idle": "2025-08-20T19:37:47.001677Z",
     "shell.execute_reply": "2025-08-20T19:37:47.000820Z",
     "shell.execute_reply.started": "2025-08-20T19:37:46.977191Z"
    }
   },
   "outputs": [],
   "source": [
    "#changing the input data to a numpy array\n",
    "input_data_as_numpy_array =np.asarray(input_data)"
   ]
  },
  {
   "cell_type": "code",
   "execution_count": 312,
   "metadata": {
    "execution": {
     "iopub.execute_input": "2025-08-20T19:37:47.003098Z",
     "iopub.status.busy": "2025-08-20T19:37:47.002825Z",
     "iopub.status.idle": "2025-08-20T19:37:47.022122Z",
     "shell.execute_reply": "2025-08-20T19:37:47.021197Z",
     "shell.execute_reply.started": "2025-08-20T19:37:47.003076Z"
    }
   },
   "outputs": [],
   "source": [
    "#reshape the array as we are predicting for one instance \n",
    "input_data_reshaped = input_data_as_numpy_array.reshape(1,-1)"
   ]
  },
  {
   "cell_type": "code",
   "execution_count": 313,
   "metadata": {
    "execution": {
     "iopub.execute_input": "2025-08-20T19:37:47.023331Z",
     "iopub.status.busy": "2025-08-20T19:37:47.023046Z",
     "iopub.status.idle": "2025-08-20T19:37:47.044045Z",
     "shell.execute_reply": "2025-08-20T19:37:47.043199Z",
     "shell.execute_reply.started": "2025-08-20T19:37:47.023305Z"
    }
   },
   "outputs": [
    {
     "name": "stdout",
     "output_type": "stream",
     "text": [
      "[[ 0.9078684  -0.19399511 -1.29892898  0.55346145  0.6201243   1.03087062\n",
      "   0.06225409 -1.70234012]]\n",
      "[0]\n",
      "The person is not diabetic\n"
     ]
    },
    {
     "name": "stderr",
     "output_type": "stream",
     "text": [
      "/usr/local/lib/python3.11/dist-packages/sklearn/base.py:439: UserWarning: X does not have valid feature names, but StandardScaler was fitted with feature names\n",
      "  warnings.warn(\n"
     ]
    }
   ],
   "source": [
    "#standardized the input data\n",
    "std_data = scaler.transform(input_data_reshaped)\n",
    "print(std_data)\n",
    "\n",
    "prediction = classifier.predict(std_data)\n",
    "print(prediction)\n",
    "\n",
    "if (prediction [0] == 0):\n",
    "    print ('The person is not diabetic')\n",
    "else:\n",
    "    print ('The person is diabetic')\n",
    "    "
   ]
  },
  {
   "cell_type": "markdown",
   "metadata": {},
   "source": [
    "### Handling Class Imbalance with `class_weight='balanced'`\n",
    "\n",
    "In our dataset, about 69% are non-diabetic and 31% are diabetic.  \n",
    "This imbalance made the original SVM mostly predict \"non-diabetic\", which gave okay accuracy (~69%) but **missed many diabetics**.\n",
    "\n",
    "To fix this,I trained another SVM with the parameter `class_weight='balanced'`.  \n",
    "This tells the model:  \n",
    "- \"Pay more attention to the minority class (diabetic)\"  \n",
    "- \"Don’t just chase accuracy by always guessing non-diabetic\"  \n",
    "\n",
    "When we compare results:  \n",
    "- **Accuracy went down** (53%), but that’s not a bad thing here.  \n",
    "- **Recall for diabetics (class 1) went up to 61%** → the model now catches more of the actual diabetics.  \n",
    "- Precision dropped (only 34%), meaning there are more false alarms.\n"
   ]
  },
  {
   "cell_type": "code",
   "execution_count": 314,
   "metadata": {
    "execution": {
     "iopub.execute_input": "2025-08-20T19:37:47.045345Z",
     "iopub.status.busy": "2025-08-20T19:37:47.045043Z",
     "iopub.status.idle": "2025-08-20T19:37:47.097153Z",
     "shell.execute_reply": "2025-08-20T19:37:47.096360Z",
     "shell.execute_reply.started": "2025-08-20T19:37:47.045317Z"
    }
   },
   "outputs": [],
   "source": [
    "\n",
    "# create SVM with balanced class weights\n",
    "classifier = svm.SVC(kernel='linear', class_weight='balanced')\n",
    "\n",
    "# train the model\n",
    "classifier.fit(X_train, Y_train)\n",
    "\n",
    "# make predictions\n",
    "y_pred = classifier.predict(X_test)\n"
   ]
  },
  {
   "cell_type": "code",
   "execution_count": 315,
   "metadata": {
    "execution": {
     "iopub.execute_input": "2025-08-20T19:37:47.098300Z",
     "iopub.status.busy": "2025-08-20T19:37:47.098034Z",
     "iopub.status.idle": "2025-08-20T19:37:47.113467Z",
     "shell.execute_reply": "2025-08-20T19:37:47.112509Z",
     "shell.execute_reply.started": "2025-08-20T19:37:47.098278Z"
    }
   },
   "outputs": [
    {
     "name": "stdout",
     "output_type": "stream",
     "text": [
      "              precision    recall  f1-score   support\n",
      "\n",
      "           0       0.74      0.49      0.59       139\n",
      "           1       0.34      0.61      0.44        61\n",
      "\n",
      "    accuracy                           0.53       200\n",
      "   macro avg       0.54      0.55      0.51       200\n",
      "weighted avg       0.62      0.53      0.54       200\n",
      "\n"
     ]
    }
   ],
   "source": [
    "from sklearn.metrics import classification_report\n",
    "\n",
    "print(classification_report(Y_test, y_pred))\n"
   ]
  },
  {
   "cell_type": "code",
   "execution_count": 316,
   "metadata": {
    "execution": {
     "iopub.execute_input": "2025-08-20T19:37:47.114769Z",
     "iopub.status.busy": "2025-08-20T19:37:47.114426Z",
     "iopub.status.idle": "2025-08-20T19:37:47.130236Z",
     "shell.execute_reply": "2025-08-20T19:37:47.129395Z",
     "shell.execute_reply.started": "2025-08-20T19:37:47.114718Z"
    }
   },
   "outputs": [
    {
     "name": "stdout",
     "output_type": "stream",
     "text": [
      "[[ 0.9078684  -0.19399511 -1.29892898  0.55346145  0.6201243   1.03087062\n",
      "   0.06225409 -1.70234012]]\n",
      "[1]\n",
      "The person is diabetic\n"
     ]
    },
    {
     "name": "stderr",
     "output_type": "stream",
     "text": [
      "/usr/local/lib/python3.11/dist-packages/sklearn/base.py:439: UserWarning: X does not have valid feature names, but StandardScaler was fitted with feature names\n",
      "  warnings.warn(\n"
     ]
    }
   ],
   "source": [
    "input_data = (3,95.665270,\t54.157100,\t23.927648,\t130.989859,\t29.235840\t,0.461786\t,18.669086)\n",
    "#changing the input data to a numpy array\n",
    "input_data_as_numpy_array =np.asarray(input_data)\n",
    "#reshape the array as we are predicting for one instance \n",
    "input_data_reshaped = input_data_as_numpy_array.reshape(1,-1)\n",
    "#standardized the input data\n",
    "std_data = scaler.transform(input_data_reshaped)\n",
    "print(std_data)\n",
    "\n",
    "prediction = classifier.predict(std_data)\n",
    "print(prediction)\n",
    "\n",
    "if (prediction [0] == 0):\n",
    "    print ('The person is not diabetic')\n",
    "else:\n",
    "    print ('The person is diabetic')\n"
   ]
  }
 ],
 "metadata": {
  "kaggle": {
   "accelerator": "none",
   "dataSources": [
    {
     "datasetId": 4463541,
     "sourceId": 7655840,
     "sourceType": "datasetVersion"
    }
   ],
   "dockerImageVersionId": 31089,
   "isGpuEnabled": false,
   "isInternetEnabled": true,
   "language": "python",
   "sourceType": "notebook"
  },
  "kernelspec": {
   "display_name": "Python 3 (ipykernel)",
   "language": "python",
   "name": "python3"
  },
  "language_info": {
   "codemirror_mode": {
    "name": "ipython",
    "version": 3
   },
   "file_extension": ".py",
   "mimetype": "text/x-python",
   "name": "python",
   "nbconvert_exporter": "python",
   "pygments_lexer": "ipython3",
   "version": "3.13.7"
  }
 },
 "nbformat": 4,
 "nbformat_minor": 4
}
